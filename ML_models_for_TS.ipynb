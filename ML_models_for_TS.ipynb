{
 "cells": [
  {
   "cell_type": "code",
   "execution_count": null,
   "metadata": {},
   "outputs": [],
   "source": [
    "import pandas as pd\n",
    "import numpy as np\n",
    "from sklearn.model_selection import train_test_split\n",
    "from sklearn.metrics import mean_absolute_error\n",
    "from sklearn.ensemble import RandomForestRegressor\n",
    "from sklearn.metrics import mean_squared_error\n",
    "import matplotlib.pyplot as plt\n",
    "from xgboost import XGBRegressor\n",
    "from pmdarima import auto_arima\n",
    "from statsmodels.tsa.arima.model import ARIMA"
   ]
  },
  {
   "cell_type": "markdown",
   "metadata": {},
   "source": [
    "Loading random walk csv file and creating dataframe to store the outputs"
   ]
  },
  {
   "cell_type": "code",
   "execution_count": null,
   "metadata": {},
   "outputs": [],
   "source": [
    "data = pd.read_csv(\"random_walk.csv\", delimiter=',')\n",
    "random_walk_predictions = pd.DataFrame()"
   ]
  },
  {
   "cell_type": "markdown",
   "metadata": {},
   "source": [
    "Applying Random Forest model (random walk data)"
   ]
  },
  {
   "cell_type": "code",
   "execution_count": null,
   "metadata": {},
   "outputs": [],
   "source": [
    "# Split the data into features (X) and target variable (y)\n",
    "X = data[['period']]\n",
    "y = data['demand']\n",
    "\n",
    "# Fit the model\n",
    "rf_model = RandomForestRegressor(n_estimators=100, random_state=42)\n",
    "rf_model.fit(X, y)\n",
    "\n",
    "# Generate forecast for the next 48 observations\n",
    "forecast_dates = pd.DataFrame({'period': range(397, 445)})\n",
    "forecasted_demand = rf_model.predict(forecast_dates)\n",
    "random_walk_predictions['Random_Forest'] = forecasted_demand\n",
    "\n",
    "# Plot the results\n",
    "plt.figure(figsize=(10, 6))\n",
    "plt.scatter(data['period'], data['demand'], label='Original Data')\n",
    "plt.plot(forecast_dates, forecasted_demand, color='green', label='Forecast')\n",
    "plt.xlabel('Period')\n",
    "plt.ylabel('Demand')\n",
    "plt.legend()\n",
    "plt.show()\n"
   ]
  },
  {
   "cell_type": "markdown",
   "metadata": {},
   "source": [
    "Aplying XGBoost model (random walk data)"
   ]
  },
  {
   "cell_type": "code",
   "execution_count": null,
   "metadata": {},
   "outputs": [],
   "source": [
    "# Split the data into features (X) and target variable (y)\n",
    "X = data[['period']]\n",
    "y = data['demand']\n",
    "\n",
    "# Fit the model\n",
    "xgb_model = XGBRegressor(objective='reg:squarederror', random_state=42)\n",
    "xgb_model.fit(X, y)\n",
    "\n",
    "# Generate forecast for the next 48 observations\n",
    "forecast_dates = pd.DataFrame({'period': range(397, 445)})\n",
    "forecasted_demand = xgb_model.predict(forecast_dates)\n",
    "random_walk_predictions['XGBoost'] = forecasted_demand\n",
    "\n",
    "# Plot the results\n",
    "plt.figure(figsize=(10, 6))\n",
    "plt.scatter(data['period'], data['demand'], label='Original Data')\n",
    "plt.plot(forecast_dates, forecasted_demand, color='green', label='Forecast')\n",
    "plt.xlabel('Period')\n",
    "plt.ylabel('Demand')\n",
    "plt.legend()\n",
    "plt.show()"
   ]
  },
  {
   "cell_type": "markdown",
   "metadata": {},
   "source": [
    "Applying SARIMA model (random walk data)"
   ]
  },
  {
   "cell_type": "code",
   "execution_count": null,
   "metadata": {},
   "outputs": [],
   "source": [
    "# Fit auto_arima to automatically select the best ARIMA model\n",
    "model = auto_arima(data['demand'], seasonal=True, m=12)\n",
    "\n",
    "# Fit the best ARIMA model\n",
    "order = model.get_params()['order']\n",
    "seasonal_order = model.get_params()['seasonal_order']\n",
    "arima_model = ARIMA(data['demand'], order=order, seasonal_order=seasonal_order)\n",
    "arima_model_fit = arima_model.fit()\n",
    "\n",
    "# Generate forecast for the next 48 observations\n",
    "forecast_dates = pd.DataFrame({'period': range(397, 445)})\n",
    "forecasted_demand = arima_model_fit.forecast(steps=len(forecast_dates))\n",
    "random_walk_predictions['SARIMA'] = np.array(forecasted_demand)\n",
    "\n",
    "# Plot the results\n",
    "plt.figure(figsize=(10, 6))\n",
    "plt.scatter(data['period'], data['demand'], label='Original Data')\n",
    "plt.plot(forecast_dates, forecasted_demand, color='green', label='Forecast')\n",
    "plt.title(model)\n",
    "plt.xlabel('Period')\n",
    "plt.ylabel('Demand')\n",
    "plt.legend()\n",
    "plt.show()"
   ]
  },
  {
   "cell_type": "markdown",
   "metadata": {},
   "source": [
    "Print the results (in this case they are quite similar)"
   ]
  },
  {
   "cell_type": "code",
   "execution_count": null,
   "metadata": {},
   "outputs": [],
   "source": [
    "print(random_walk_predictions)"
   ]
  },
  {
   "cell_type": "markdown",
   "metadata": {},
   "source": [
    "Now using a demand with seasonal and trend patterns"
   ]
  },
  {
   "cell_type": "code",
   "execution_count": null,
   "metadata": {},
   "outputs": [],
   "source": [
    "data = pd.read_csv(\"trend_season.csv\", delimiter=',')\n",
    "trend_season_predictions = pd.DataFrame()"
   ]
  },
  {
   "cell_type": "markdown",
   "metadata": {},
   "source": [
    "Applying SARIMA model (seasonal and trend data)"
   ]
  },
  {
   "cell_type": "code",
   "execution_count": null,
   "metadata": {},
   "outputs": [],
   "source": [
    "# Fit auto_arima to automatically select the best ARIMA model\n",
    "model = auto_arima(data['demand'], seasonal=True, m=12)\n",
    "\n",
    "# Fit the best ARIMA model\n",
    "order = model.get_params()['order']\n",
    "seasonal_order = model.get_params()['seasonal_order']\n",
    "arima_model = ARIMA(data['demand'], order=order, seasonal_order=seasonal_order)\n",
    "arima_model_fit = arima_model.fit()\n",
    "\n",
    "# Generate forecast for the next 12 observations\n",
    "forecast_dates = pd.DataFrame({'period': range(397, 409)})\n",
    "forecasted_demand = arima_model_fit.forecast(steps=len(forecast_dates))\n",
    "trend_season_predictions['SARIMA'] = np.array(forecasted_demand)\n",
    "\n",
    "# Plot the results\n",
    "plt.figure(figsize=(10, 6))\n",
    "plt.scatter(data['period'], data['demand'], label='Original Data')\n",
    "plt.plot(forecast_dates, forecasted_demand, color='green', label='Forecast')\n",
    "plt.title(model)\n",
    "plt.xlabel('Period')\n",
    "plt.ylabel('Demand')\n",
    "plt.legend()\n",
    "plt.show()\n"
   ]
  },
  {
   "cell_type": "markdown",
   "metadata": {},
   "source": [
    "Applying XGBoost model. In this case we need to create lagged demand in the dataframe so, to avoid messing the datrafame 'data' we will upload the data to different name: 'df':"
   ]
  },
  {
   "cell_type": "code",
   "execution_count": null,
   "metadata": {},
   "outputs": [],
   "source": [
    "df = pd.read_csv(\"trend_season.csv\", delimiter=',')"
   ]
  },
  {
   "cell_type": "code",
   "execution_count": null,
   "metadata": {},
   "outputs": [],
   "source": [
    "# Defining the number of lags to use as features\n",
    "n_lags = 12  \n",
    "for i in range(1, n_lags + 1):\n",
    "    df[f'demand_lag_{i}'] = df['demand'].shift(i)\n",
    "\n",
    "features = ['demand_lag_1', 'demand_lag_2', 'demand_lag_3', 'demand_lag_4', 'demand_lag_5', 'demand_lag_6', \n",
    "            'demand_lag_7', 'demand_lag_8', 'demand_lag_9','demand_lag_10', 'demand_lag_11', 'demand_lag_12']\n",
    "\n",
    "# Lagged demand will be the feature variables\n",
    "X = df[features]\n",
    "\n",
    "# Demand will be the target variable\n",
    "y = df['demand']\n",
    "\n",
    "# Split dataframes in training and test\n",
    "X_train = X.iloc[:len(X)-12,:]\n",
    "X_test = X.iloc[len(X)-12:,:]\n",
    "y_train = y[:len(y)-12]\n",
    "y_test = y[len(y)-12:]\n",
    "\n",
    "# Training an XGBoost model\n",
    "model = XGBRegressor(objective='reg:squarederror', n_estimators=1000)\n",
    "model.fit(X_train, y_train)\n",
    "\n",
    "# Make predictions for the next 12 periods using the test set\n",
    "y_pred = model.predict(X_test)\n",
    "\n",
    "# Evaluate the model using mean absolute error (MAE)\n",
    "mae = mean_absolute_error(y_test, y_pred)\n",
    "print('Mean Absolute Error (MAE):', mae)\n",
    "\n",
    "# Plot the actual and predicted demand for the test set\n",
    "plt.plot(range(len(y)), y.values, label='Actual Demand')\n",
    "plt.plot(range(len(y), len(y)+len(y_pred)), y_pred, label='Predicted Demand')\n",
    "plt.xlabel('Time')\n",
    "plt.ylabel('Demand')\n",
    "plt.legend()\n",
    "plt.show()\n"
   ]
  },
  {
   "cell_type": "markdown",
   "metadata": {},
   "source": [
    "Printing the results"
   ]
  },
  {
   "cell_type": "code",
   "execution_count": null,
   "metadata": {},
   "outputs": [],
   "source": [
    "trend_season_predictions['XGBoost'] = np.array(y_pred)\n",
    "trend_season_predictions['Actual'] = np.array(y_test)\n",
    "print(trend_season_predictions)"
   ]
  },
  {
   "cell_type": "markdown",
   "metadata": {},
   "source": [
    "Calculating the mean absolute error for both models and comparing the results"
   ]
  },
  {
   "cell_type": "code",
   "execution_count": null,
   "metadata": {},
   "outputs": [],
   "source": [
    "mae = mean_absolute_error(trend_season_predictions['SARIMA'], trend_season_predictions['Actual'])\n",
    "print('Mean Absolute Error (MAE) for SARIMA:', mae)\n",
    "mae = mean_absolute_error(trend_season_predictions['XGBoost'], trend_season_predictions['Actual'])\n",
    "print('Mean Absolute Error (MAE) for XGBoost:', mae)"
   ]
  }
 ],
 "metadata": {
  "kernelspec": {
   "display_name": "Python 3",
   "language": "python",
   "name": "python3"
  },
  "language_info": {
   "codemirror_mode": {
    "name": "ipython",
    "version": 3
   },
   "file_extension": ".py",
   "mimetype": "text/x-python",
   "name": "python",
   "nbconvert_exporter": "python",
   "pygments_lexer": "ipython3",
   "version": "3.10.10"
  },
  "orig_nbformat": 4
 },
 "nbformat": 4,
 "nbformat_minor": 2
}
